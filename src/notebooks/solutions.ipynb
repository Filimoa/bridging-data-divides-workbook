{
 "cells": [
  {
   "cell_type": "code",
   "execution_count": 1,
   "metadata": {},
   "outputs": [],
   "source": [
    "import os\n",
    "from typing import Optional\n",
    "\n",
    "# os.environ['OPEN_AI_KEY'] = 'sk-...'\n",
    "\n",
    "from notebook_utils import *"
   ]
  },
  {
   "cell_type": "markdown",
   "metadata": {},
   "source": [
    "## 2.1 Sentence Embeddings"
   ]
  },
  {
   "cell_type": "code",
   "execution_count": 9,
   "metadata": {},
   "outputs": [
    {
     "name": "stdout",
     "output_type": "stream",
     "text": [
      "Partial sentence: Actuaries\n",
      "Partial sentence: Actuaries fly\n",
      "Partial sentence: Actuaries fly to\n",
      "Partial sentence: Actuaries fly to CAS\n",
      "Partial sentence: Actuaries fly to CAS conferences\n",
      "Partial sentence: Actuaries fly to CAS conferences to\n",
      "Partial sentence: Actuaries fly to CAS conferences to learn\n",
      "Partial sentence: Actuaries fly to CAS conferences to learn about\n",
      "Partial sentence: Actuaries fly to CAS conferences to learn about cool\n"
     ]
    }
   ],
   "source": [
    "sentence = \"Actuaries fly to CAS conferences to learn about cool stuff\"\n",
    "\n",
    "graph = create_new_graph()\n",
    "color_scale = [\n",
    "    \"#E6E6FA\",  # Lavender\n",
    "    \"#D8BFD8\",  # Thistle\n",
    "    \"#DDA0DD\",  # Plum\n",
    "    \"#DA70D6\",  # Orchid\n",
    "    \"#BA55D3\",  # Medium Orchid\n",
    "    \"#9932CC\",  # Dark Orchid\n",
    "    \"#9400D3\",  # Dark Violet\n",
    "    \"#8A2BE2\",  # Blue Violet\n",
    "    \"#800080\",  # Purple\n",
    "    \"#4B0082\",  # Indigo\n",
    "]  # each one is progressively darker\n",
    "\n",
    "words = sentence.split()\n",
    "\n",
    "# Start from 1 to handle color scaling\n",
    "for ix, word in enumerate(words[1:], 1):\n",
    "    partial_sentence = \" \".join(words[:ix])\n",
    "    print(f\"Partial sentence: {partial_sentence}\")\n",
    "\n",
    "    vector = get_embedding(partial_sentence, dimensions=3)\n",
    "\n",
    "    add_vector_to_graph(graph, vector, name=partial_sentence, color=color_scale[ix])"
   ]
  },
  {
   "cell_type": "code",
   "execution_count": 10,
   "metadata": {},
   "outputs": [
    {
     "data": {
      "application/vnd.plotly.v1+json": {
       "config": {
        "plotlyServerURL": "https://plot.ly"
       },
       "data": [
        {
         "marker": {
          "color": "black",
          "size": 6,
          "symbol": "circle"
         },
         "mode": "markers",
         "name": "Origin",
         "type": "scatter3d",
         "x": [
          0
         ],
         "y": [
          0
         ],
         "z": [
          0
         ]
        },
        {
         "line": {
          "color": "#D8BFD8",
          "width": 5
         },
         "mode": "lines",
         "name": "Actuaries",
         "type": "scatter3d",
         "x": [
          0,
          -0.6237328052520752
         ],
         "y": [
          0,
          -0.41661393642425537
         ],
         "z": [
          0,
          -0.6613547801971436
         ]
        },
        {
         "colorscale": [
          [
           0,
           "#D8BFD8"
          ],
          [
           1,
           "#D8BFD8"
          ]
         ],
         "hoverinfo": "none",
         "showscale": false,
         "sizemode": "scaled",
         "sizeref": 0.1,
         "type": "cone",
         "u": [
          -0.6237328052520752
         ],
         "v": [
          -0.41661393642425537
         ],
         "w": [
          -0.6613547801971436
         ],
         "x": [
          -0.6237328052520752
         ],
         "y": [
          -0.41661393642425537
         ],
         "z": [
          -0.6613547801971436
         ]
        },
        {
         "line": {
          "color": "#DDA0DD",
          "width": 5
         },
         "mode": "lines",
         "name": "Actuaries fly",
         "type": "scatter3d",
         "x": [
          0,
          -0.6823896169662476
         ],
         "y": [
          0,
          -0.6677761077880859
         ],
         "z": [
          0,
          -0.297354131937027
         ]
        },
        {
         "colorscale": [
          [
           0,
           "#DDA0DD"
          ],
          [
           1,
           "#DDA0DD"
          ]
         ],
         "hoverinfo": "none",
         "showscale": false,
         "sizemode": "scaled",
         "sizeref": 0.1,
         "type": "cone",
         "u": [
          -0.6823896169662476
         ],
         "v": [
          -0.6677761077880859
         ],
         "w": [
          -0.297354131937027
         ],
         "x": [
          -0.6823896169662476
         ],
         "y": [
          -0.6677761077880859
         ],
         "z": [
          -0.297354131937027
         ]
        },
        {
         "line": {
          "color": "#DA70D6",
          "width": 5
         },
         "mode": "lines",
         "name": "Actuaries fly to",
         "type": "scatter3d",
         "x": [
          0,
          -0.8848985433578491
         ],
         "y": [
          0,
          -0.4360896348953247
         ],
         "z": [
          0,
          -0.16364717483520508
         ]
        },
        {
         "colorscale": [
          [
           0,
           "#DA70D6"
          ],
          [
           1,
           "#DA70D6"
          ]
         ],
         "hoverinfo": "none",
         "showscale": false,
         "sizemode": "scaled",
         "sizeref": 0.1,
         "type": "cone",
         "u": [
          -0.8848985433578491
         ],
         "v": [
          -0.4360896348953247
         ],
         "w": [
          -0.16364717483520508
         ],
         "x": [
          -0.8848985433578491
         ],
         "y": [
          -0.4360896348953247
         ],
         "z": [
          -0.16364717483520508
         ]
        },
        {
         "line": {
          "color": "#BA55D3",
          "width": 5
         },
         "mode": "lines",
         "name": "Actuaries fly to CAS",
         "type": "scatter3d",
         "x": [
          0,
          -0.6124226450920105
         ],
         "y": [
          0,
          0.483559787273407
         ],
         "z": [
          0,
          -0.6253867149353027
         ]
        },
        {
         "colorscale": [
          [
           0,
           "#BA55D3"
          ],
          [
           1,
           "#BA55D3"
          ]
         ],
         "hoverinfo": "none",
         "showscale": false,
         "sizemode": "scaled",
         "sizeref": 0.1,
         "type": "cone",
         "u": [
          -0.6124226450920105
         ],
         "v": [
          0.483559787273407
         ],
         "w": [
          -0.6253867149353027
         ],
         "x": [
          -0.6124226450920105
         ],
         "y": [
          0.483559787273407
         ],
         "z": [
          -0.6253867149353027
         ]
        },
        {
         "line": {
          "color": "#9932CC",
          "width": 5
         },
         "mode": "lines",
         "name": "Actuaries fly to CAS conferences",
         "type": "scatter3d",
         "x": [
          0,
          -0.39378753304481506
         ],
         "y": [
          0,
          0.486443430185318
         ],
         "z": [
          0,
          -0.7799385786056519
         ]
        },
        {
         "colorscale": [
          [
           0,
           "#9932CC"
          ],
          [
           1,
           "#9932CC"
          ]
         ],
         "hoverinfo": "none",
         "showscale": false,
         "sizemode": "scaled",
         "sizeref": 0.1,
         "type": "cone",
         "u": [
          -0.39378753304481506
         ],
         "v": [
          0.486443430185318
         ],
         "w": [
          -0.7799385786056519
         ],
         "x": [
          -0.39378753304481506
         ],
         "y": [
          0.486443430185318
         ],
         "z": [
          -0.7799385786056519
         ]
        },
        {
         "line": {
          "color": "#9400D3",
          "width": 5
         },
         "mode": "lines",
         "name": "Actuaries fly to CAS conferences to",
         "type": "scatter3d",
         "x": [
          0,
          -0.6636291146278381
         ],
         "y": [
          0,
          0.08269902318716049
         ],
         "z": [
          0,
          -0.7434764504432678
         ]
        },
        {
         "colorscale": [
          [
           0,
           "#9400D3"
          ],
          [
           1,
           "#9400D3"
          ]
         ],
         "hoverinfo": "none",
         "showscale": false,
         "sizemode": "scaled",
         "sizeref": 0.1,
         "type": "cone",
         "u": [
          -0.6636291146278381
         ],
         "v": [
          0.08269902318716049
         ],
         "w": [
          -0.7434764504432678
         ],
         "x": [
          -0.6636291146278381
         ],
         "y": [
          0.08269902318716049
         ],
         "z": [
          -0.7434764504432678
         ]
        },
        {
         "line": {
          "color": "#8A2BE2",
          "width": 5
         },
         "mode": "lines",
         "name": "Actuaries fly to CAS conferences to learn",
         "type": "scatter3d",
         "x": [
          0,
          -0.5548902153968811
         ],
         "y": [
          0,
          0.6715432405471802
         ],
         "z": [
          0,
          -0.491046279668808
         ]
        },
        {
         "colorscale": [
          [
           0,
           "#8A2BE2"
          ],
          [
           1,
           "#8A2BE2"
          ]
         ],
         "hoverinfo": "none",
         "showscale": false,
         "sizemode": "scaled",
         "sizeref": 0.1,
         "type": "cone",
         "u": [
          -0.5548902153968811
         ],
         "v": [
          0.6715432405471802
         ],
         "w": [
          -0.491046279668808
         ],
         "x": [
          -0.5548902153968811
         ],
         "y": [
          0.6715432405471802
         ],
         "z": [
          -0.491046279668808
         ]
        },
        {
         "line": {
          "color": "#800080",
          "width": 5
         },
         "mode": "lines",
         "name": "Actuaries fly to CAS conferences to learn about",
         "type": "scatter3d",
         "x": [
          0,
          -0.632314920425415
         ],
         "y": [
          0,
          0.7113063931465149
         ],
         "z": [
          0,
          -0.30695459246635437
         ]
        },
        {
         "colorscale": [
          [
           0,
           "#800080"
          ],
          [
           1,
           "#800080"
          ]
         ],
         "hoverinfo": "none",
         "showscale": false,
         "sizemode": "scaled",
         "sizeref": 0.1,
         "type": "cone",
         "u": [
          -0.632314920425415
         ],
         "v": [
          0.7113063931465149
         ],
         "w": [
          -0.30695459246635437
         ],
         "x": [
          -0.632314920425415
         ],
         "y": [
          0.7113063931465149
         ],
         "z": [
          -0.30695459246635437
         ]
        },
        {
         "line": {
          "color": "#4B0082",
          "width": 5
         },
         "mode": "lines",
         "name": "Actuaries fly to CAS conferences to learn about cool",
         "type": "scatter3d",
         "x": [
          0,
          -0.6236061453819275
         ],
         "y": [
          0,
          0.5554495453834534
         ],
         "z": [
          0,
          -0.5500828623771667
         ]
        },
        {
         "colorscale": [
          [
           0,
           "#4B0082"
          ],
          [
           1,
           "#4B0082"
          ]
         ],
         "hoverinfo": "none",
         "showscale": false,
         "sizemode": "scaled",
         "sizeref": 0.1,
         "type": "cone",
         "u": [
          -0.6236061453819275
         ],
         "v": [
          0.5554495453834534
         ],
         "w": [
          -0.5500828623771667
         ],
         "x": [
          -0.6236061453819275
         ],
         "y": [
          0.5554495453834534
         ],
         "z": [
          -0.5500828623771667
         ]
        }
       ],
       "layout": {
        "scene": {
         "aspectmode": "cube",
         "camera": {
          "center": {
           "x": 0,
           "y": 0,
           "z": 0
          },
          "eye": {
           "x": 1.5,
           "y": 1.5,
           "z": 0.5
          },
          "up": {
           "x": 0,
           "y": 0,
           "z": 1
          }
         }
        },
        "template": {
         "data": {
          "bar": [
           {
            "error_x": {
             "color": "#2a3f5f"
            },
            "error_y": {
             "color": "#2a3f5f"
            },
            "marker": {
             "line": {
              "color": "#E5ECF6",
              "width": 0.5
             },
             "pattern": {
              "fillmode": "overlay",
              "size": 10,
              "solidity": 0.2
             }
            },
            "type": "bar"
           }
          ],
          "barpolar": [
           {
            "marker": {
             "line": {
              "color": "#E5ECF6",
              "width": 0.5
             },
             "pattern": {
              "fillmode": "overlay",
              "size": 10,
              "solidity": 0.2
             }
            },
            "type": "barpolar"
           }
          ],
          "carpet": [
           {
            "aaxis": {
             "endlinecolor": "#2a3f5f",
             "gridcolor": "white",
             "linecolor": "white",
             "minorgridcolor": "white",
             "startlinecolor": "#2a3f5f"
            },
            "baxis": {
             "endlinecolor": "#2a3f5f",
             "gridcolor": "white",
             "linecolor": "white",
             "minorgridcolor": "white",
             "startlinecolor": "#2a3f5f"
            },
            "type": "carpet"
           }
          ],
          "choropleth": [
           {
            "colorbar": {
             "outlinewidth": 0,
             "ticks": ""
            },
            "type": "choropleth"
           }
          ],
          "contour": [
           {
            "colorbar": {
             "outlinewidth": 0,
             "ticks": ""
            },
            "colorscale": [
             [
              0,
              "#0d0887"
             ],
             [
              0.1111111111111111,
              "#46039f"
             ],
             [
              0.2222222222222222,
              "#7201a8"
             ],
             [
              0.3333333333333333,
              "#9c179e"
             ],
             [
              0.4444444444444444,
              "#bd3786"
             ],
             [
              0.5555555555555556,
              "#d8576b"
             ],
             [
              0.6666666666666666,
              "#ed7953"
             ],
             [
              0.7777777777777778,
              "#fb9f3a"
             ],
             [
              0.8888888888888888,
              "#fdca26"
             ],
             [
              1,
              "#f0f921"
             ]
            ],
            "type": "contour"
           }
          ],
          "contourcarpet": [
           {
            "colorbar": {
             "outlinewidth": 0,
             "ticks": ""
            },
            "type": "contourcarpet"
           }
          ],
          "heatmap": [
           {
            "colorbar": {
             "outlinewidth": 0,
             "ticks": ""
            },
            "colorscale": [
             [
              0,
              "#0d0887"
             ],
             [
              0.1111111111111111,
              "#46039f"
             ],
             [
              0.2222222222222222,
              "#7201a8"
             ],
             [
              0.3333333333333333,
              "#9c179e"
             ],
             [
              0.4444444444444444,
              "#bd3786"
             ],
             [
              0.5555555555555556,
              "#d8576b"
             ],
             [
              0.6666666666666666,
              "#ed7953"
             ],
             [
              0.7777777777777778,
              "#fb9f3a"
             ],
             [
              0.8888888888888888,
              "#fdca26"
             ],
             [
              1,
              "#f0f921"
             ]
            ],
            "type": "heatmap"
           }
          ],
          "heatmapgl": [
           {
            "colorbar": {
             "outlinewidth": 0,
             "ticks": ""
            },
            "colorscale": [
             [
              0,
              "#0d0887"
             ],
             [
              0.1111111111111111,
              "#46039f"
             ],
             [
              0.2222222222222222,
              "#7201a8"
             ],
             [
              0.3333333333333333,
              "#9c179e"
             ],
             [
              0.4444444444444444,
              "#bd3786"
             ],
             [
              0.5555555555555556,
              "#d8576b"
             ],
             [
              0.6666666666666666,
              "#ed7953"
             ],
             [
              0.7777777777777778,
              "#fb9f3a"
             ],
             [
              0.8888888888888888,
              "#fdca26"
             ],
             [
              1,
              "#f0f921"
             ]
            ],
            "type": "heatmapgl"
           }
          ],
          "histogram": [
           {
            "marker": {
             "pattern": {
              "fillmode": "overlay",
              "size": 10,
              "solidity": 0.2
             }
            },
            "type": "histogram"
           }
          ],
          "histogram2d": [
           {
            "colorbar": {
             "outlinewidth": 0,
             "ticks": ""
            },
            "colorscale": [
             [
              0,
              "#0d0887"
             ],
             [
              0.1111111111111111,
              "#46039f"
             ],
             [
              0.2222222222222222,
              "#7201a8"
             ],
             [
              0.3333333333333333,
              "#9c179e"
             ],
             [
              0.4444444444444444,
              "#bd3786"
             ],
             [
              0.5555555555555556,
              "#d8576b"
             ],
             [
              0.6666666666666666,
              "#ed7953"
             ],
             [
              0.7777777777777778,
              "#fb9f3a"
             ],
             [
              0.8888888888888888,
              "#fdca26"
             ],
             [
              1,
              "#f0f921"
             ]
            ],
            "type": "histogram2d"
           }
          ],
          "histogram2dcontour": [
           {
            "colorbar": {
             "outlinewidth": 0,
             "ticks": ""
            },
            "colorscale": [
             [
              0,
              "#0d0887"
             ],
             [
              0.1111111111111111,
              "#46039f"
             ],
             [
              0.2222222222222222,
              "#7201a8"
             ],
             [
              0.3333333333333333,
              "#9c179e"
             ],
             [
              0.4444444444444444,
              "#bd3786"
             ],
             [
              0.5555555555555556,
              "#d8576b"
             ],
             [
              0.6666666666666666,
              "#ed7953"
             ],
             [
              0.7777777777777778,
              "#fb9f3a"
             ],
             [
              0.8888888888888888,
              "#fdca26"
             ],
             [
              1,
              "#f0f921"
             ]
            ],
            "type": "histogram2dcontour"
           }
          ],
          "mesh3d": [
           {
            "colorbar": {
             "outlinewidth": 0,
             "ticks": ""
            },
            "type": "mesh3d"
           }
          ],
          "parcoords": [
           {
            "line": {
             "colorbar": {
              "outlinewidth": 0,
              "ticks": ""
             }
            },
            "type": "parcoords"
           }
          ],
          "pie": [
           {
            "automargin": true,
            "type": "pie"
           }
          ],
          "scatter": [
           {
            "fillpattern": {
             "fillmode": "overlay",
             "size": 10,
             "solidity": 0.2
            },
            "type": "scatter"
           }
          ],
          "scatter3d": [
           {
            "line": {
             "colorbar": {
              "outlinewidth": 0,
              "ticks": ""
             }
            },
            "marker": {
             "colorbar": {
              "outlinewidth": 0,
              "ticks": ""
             }
            },
            "type": "scatter3d"
           }
          ],
          "scattercarpet": [
           {
            "marker": {
             "colorbar": {
              "outlinewidth": 0,
              "ticks": ""
             }
            },
            "type": "scattercarpet"
           }
          ],
          "scattergeo": [
           {
            "marker": {
             "colorbar": {
              "outlinewidth": 0,
              "ticks": ""
             }
            },
            "type": "scattergeo"
           }
          ],
          "scattergl": [
           {
            "marker": {
             "colorbar": {
              "outlinewidth": 0,
              "ticks": ""
             }
            },
            "type": "scattergl"
           }
          ],
          "scattermapbox": [
           {
            "marker": {
             "colorbar": {
              "outlinewidth": 0,
              "ticks": ""
             }
            },
            "type": "scattermapbox"
           }
          ],
          "scatterpolar": [
           {
            "marker": {
             "colorbar": {
              "outlinewidth": 0,
              "ticks": ""
             }
            },
            "type": "scatterpolar"
           }
          ],
          "scatterpolargl": [
           {
            "marker": {
             "colorbar": {
              "outlinewidth": 0,
              "ticks": ""
             }
            },
            "type": "scatterpolargl"
           }
          ],
          "scatterternary": [
           {
            "marker": {
             "colorbar": {
              "outlinewidth": 0,
              "ticks": ""
             }
            },
            "type": "scatterternary"
           }
          ],
          "surface": [
           {
            "colorbar": {
             "outlinewidth": 0,
             "ticks": ""
            },
            "colorscale": [
             [
              0,
              "#0d0887"
             ],
             [
              0.1111111111111111,
              "#46039f"
             ],
             [
              0.2222222222222222,
              "#7201a8"
             ],
             [
              0.3333333333333333,
              "#9c179e"
             ],
             [
              0.4444444444444444,
              "#bd3786"
             ],
             [
              0.5555555555555556,
              "#d8576b"
             ],
             [
              0.6666666666666666,
              "#ed7953"
             ],
             [
              0.7777777777777778,
              "#fb9f3a"
             ],
             [
              0.8888888888888888,
              "#fdca26"
             ],
             [
              1,
              "#f0f921"
             ]
            ],
            "type": "surface"
           }
          ],
          "table": [
           {
            "cells": {
             "fill": {
              "color": "#EBF0F8"
             },
             "line": {
              "color": "white"
             }
            },
            "header": {
             "fill": {
              "color": "#C8D4E3"
             },
             "line": {
              "color": "white"
             }
            },
            "type": "table"
           }
          ]
         },
         "layout": {
          "annotationdefaults": {
           "arrowcolor": "#2a3f5f",
           "arrowhead": 0,
           "arrowwidth": 1
          },
          "autotypenumbers": "strict",
          "coloraxis": {
           "colorbar": {
            "outlinewidth": 0,
            "ticks": ""
           }
          },
          "colorscale": {
           "diverging": [
            [
             0,
             "#8e0152"
            ],
            [
             0.1,
             "#c51b7d"
            ],
            [
             0.2,
             "#de77ae"
            ],
            [
             0.3,
             "#f1b6da"
            ],
            [
             0.4,
             "#fde0ef"
            ],
            [
             0.5,
             "#f7f7f7"
            ],
            [
             0.6,
             "#e6f5d0"
            ],
            [
             0.7,
             "#b8e186"
            ],
            [
             0.8,
             "#7fbc41"
            ],
            [
             0.9,
             "#4d9221"
            ],
            [
             1,
             "#276419"
            ]
           ],
           "sequential": [
            [
             0,
             "#0d0887"
            ],
            [
             0.1111111111111111,
             "#46039f"
            ],
            [
             0.2222222222222222,
             "#7201a8"
            ],
            [
             0.3333333333333333,
             "#9c179e"
            ],
            [
             0.4444444444444444,
             "#bd3786"
            ],
            [
             0.5555555555555556,
             "#d8576b"
            ],
            [
             0.6666666666666666,
             "#ed7953"
            ],
            [
             0.7777777777777778,
             "#fb9f3a"
            ],
            [
             0.8888888888888888,
             "#fdca26"
            ],
            [
             1,
             "#f0f921"
            ]
           ],
           "sequentialminus": [
            [
             0,
             "#0d0887"
            ],
            [
             0.1111111111111111,
             "#46039f"
            ],
            [
             0.2222222222222222,
             "#7201a8"
            ],
            [
             0.3333333333333333,
             "#9c179e"
            ],
            [
             0.4444444444444444,
             "#bd3786"
            ],
            [
             0.5555555555555556,
             "#d8576b"
            ],
            [
             0.6666666666666666,
             "#ed7953"
            ],
            [
             0.7777777777777778,
             "#fb9f3a"
            ],
            [
             0.8888888888888888,
             "#fdca26"
            ],
            [
             1,
             "#f0f921"
            ]
           ]
          },
          "colorway": [
           "#636efa",
           "#EF553B",
           "#00cc96",
           "#ab63fa",
           "#FFA15A",
           "#19d3f3",
           "#FF6692",
           "#B6E880",
           "#FF97FF",
           "#FECB52"
          ],
          "font": {
           "color": "#2a3f5f"
          },
          "geo": {
           "bgcolor": "white",
           "lakecolor": "white",
           "landcolor": "#E5ECF6",
           "showlakes": true,
           "showland": true,
           "subunitcolor": "white"
          },
          "hoverlabel": {
           "align": "left"
          },
          "hovermode": "closest",
          "mapbox": {
           "style": "light"
          },
          "paper_bgcolor": "white",
          "plot_bgcolor": "#E5ECF6",
          "polar": {
           "angularaxis": {
            "gridcolor": "white",
            "linecolor": "white",
            "ticks": ""
           },
           "bgcolor": "#E5ECF6",
           "radialaxis": {
            "gridcolor": "white",
            "linecolor": "white",
            "ticks": ""
           }
          },
          "scene": {
           "xaxis": {
            "backgroundcolor": "#E5ECF6",
            "gridcolor": "white",
            "gridwidth": 2,
            "linecolor": "white",
            "showbackground": true,
            "ticks": "",
            "zerolinecolor": "white"
           },
           "yaxis": {
            "backgroundcolor": "#E5ECF6",
            "gridcolor": "white",
            "gridwidth": 2,
            "linecolor": "white",
            "showbackground": true,
            "ticks": "",
            "zerolinecolor": "white"
           },
           "zaxis": {
            "backgroundcolor": "#E5ECF6",
            "gridcolor": "white",
            "gridwidth": 2,
            "linecolor": "white",
            "showbackground": true,
            "ticks": "",
            "zerolinecolor": "white"
           }
          },
          "shapedefaults": {
           "line": {
            "color": "#2a3f5f"
           }
          },
          "ternary": {
           "aaxis": {
            "gridcolor": "white",
            "linecolor": "white",
            "ticks": ""
           },
           "baxis": {
            "gridcolor": "white",
            "linecolor": "white",
            "ticks": ""
           },
           "bgcolor": "#E5ECF6",
           "caxis": {
            "gridcolor": "white",
            "linecolor": "white",
            "ticks": ""
           }
          },
          "title": {
           "x": 0.05
          },
          "xaxis": {
           "automargin": true,
           "gridcolor": "white",
           "linecolor": "white",
           "ticks": "",
           "title": {
            "standoff": 15
           },
           "zerolinecolor": "white",
           "zerolinewidth": 2
          },
          "yaxis": {
           "automargin": true,
           "gridcolor": "white",
           "linecolor": "white",
           "ticks": "",
           "title": {
            "standoff": 15
           },
           "zerolinecolor": "white",
           "zerolinewidth": 2
          }
         }
        }
       }
      }
     },
     "metadata": {},
     "output_type": "display_data"
    }
   ],
   "source": [
    "# Notice how adding 'CAS' drastically shifts the embedding. You can experiment with adding unexpected words and seeing how the embedding changes.\n",
    "\n",
    "graph\n"
   ]
  },
  {
   "cell_type": "markdown",
   "metadata": {},
   "source": [
    "## 4.1 Full Document Context"
   ]
  },
  {
   "cell_type": "code",
   "execution_count": 2,
   "metadata": {},
   "outputs": [],
   "source": [
    "doc_path = \"./docs/portland-site-assessment-phase-1.pdf\"\n",
    "pdf = openparse.Pdf(doc_path)\n",
    "parser = openparse.DocumentParser()\n",
    "parsed_doc = parser.parse(doc_path)\n",
    "\n",
    "full_doc_str = \"\"\n",
    "for node in parsed_doc.nodes:\n",
    "    full_doc_str += f\"<br>{node.text}\"\n",
    "\n",
    "# you can see the output by writing the text to a file, try opening it\n",
    "with open(\"full_doc.md\", \"w\") as f:\n",
    "    f.write(full_doc_str)"
   ]
  },
  {
   "cell_type": "code",
   "execution_count": 3,
   "metadata": {},
   "outputs": [
    {
     "name": "stdout",
     "output_type": "stream",
     "text": [
      "Completion used 18730 tokens costing 0.19 USD\n",
      "Original Question Is there lead contamination into the groundwater?\n"
     ]
    },
    {
     "data": {
      "text/markdown": [
       "Yes, there is lead contamination in the groundwater. The Phase I Environmental Site Assessment conducted at the site at 400 South 1st Street, St. Helens, Oregon, identified groundwater concentrations in excess of the DEQ residential, urban residential, and occupational risk-based concentrations (RBCs) for lead, along with arsenic, PAHs, diesel-range organics (DRO), and residual-range organics (RRO). This contamination was documented in specific areas of the property, including the Lathe Area and other sections. Consequently, groundwater extraction for consumption or other beneficial use at the property is prohibited to prevent health risks."
      ],
      "text/plain": [
       "<IPython.core.display.Markdown object>"
      ]
     },
     "execution_count": 3,
     "metadata": {},
     "output_type": "execute_result"
    }
   ],
   "source": [
    "question = \"Is there lead contamination into the groundwater?\"\n",
    "\n",
    "prompt = prompt_template.format(question=question, context=full_doc_str)\n",
    "\n",
    "completion = get_completion(prompt)\n",
    "\n",
    "print(\"Original Question: \", question)\n",
    "completion"
   ]
  }
 ],
 "metadata": {
  "kernelspec": {
   "display_name": ".recreate-venv",
   "language": "python",
   "name": "python3"
  },
  "language_info": {
   "codemirror_mode": {
    "name": "ipython",
    "version": 3
   },
   "file_extension": ".py",
   "mimetype": "text/x-python",
   "name": "python",
   "nbconvert_exporter": "python",
   "pygments_lexer": "ipython3",
   "version": "3.11.9"
  }
 },
 "nbformat": 4,
 "nbformat_minor": 2
}
